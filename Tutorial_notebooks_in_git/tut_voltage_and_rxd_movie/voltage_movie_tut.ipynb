{
 "cells": [
  {
   "cell_type": "markdown",
   "id": "9e962496",
   "metadata": {},
   "source": [
    "# Making a movie of voltage activity\n",
    "\n",
    "We'll create a simple network made up of one imported morphology.\n",
    "\n",
    "First we need to download the morphology."
   ]
  },
  {
   "cell_type": "code",
   "execution_count": 4,
   "id": "63a46700",
   "metadata": {},
   "outputs": [
    {
     "data": {
      "text/plain": [
       "('BS0284.swc', <http.client.HTTPMessage at 0x7ce6fafad510>)"
      ]
     },
     "execution_count": 4,
     "metadata": {},
     "output_type": "execute_result"
    }
   ],
   "source": [
    "import urllib.request\n",
    "\n",
    "urllib.request.urlretrieve(\n",
    "    \"https://raw.githubusercontent.com/Neurosim-lab/netpyne/development/doc/source/code/BS0284.swc\",\n",
    "    \"BS0284.swc\",\n",
    ")"
   ]
  },
  {
   "cell_type": "markdown",
   "id": "6a9270d3",
   "metadata": {},
   "source": [
    "Then we need to import the morphology."
   ]
  },
  {
   "cell_type": "code",
   "execution_count": 5,
   "id": "b952352c",
   "metadata": {},
   "outputs": [],
   "source": [
    "from netpyne import specs, sim\n",
    "%matplotlib inline\n",
    "\n",
    "netParams = specs.NetParams()\n",
    "\n",
    "cellRule = netParams.importCellParams(\n",
    "    label='swc_cell', \n",
    "    fileName='BS0284.swc', \n",
    "    cellName='BS0284',\n",
    "    )"
   ]
  },
  {
   "cell_type": "markdown",
   "id": "06d2b7c9",
   "metadata": {},
   "source": [
    "For convenience, we'll rename the first soma section in the morphology from `soma_0` to `soma`."
   ]
  },
  {
   "cell_type": "code",
   "execution_count": 6,
   "id": "de61e65b",
   "metadata": {},
   "outputs": [],
   "source": [
    "netParams.renameCellParamsSec(\"swc_cell\", \"soma_0\", \"soma\")"
   ]
  },
  {
   "cell_type": "markdown",
   "id": "acfa2cf3",
   "metadata": {},
   "source": [
    "Next we'll add Hodgkin-Huxley mechanisms to the soma and a passive leak mechanism everywhere else."
   ]
  },
  {
   "cell_type": "code",
   "execution_count": 7,
   "id": "55d2f997",
   "metadata": {},
   "outputs": [],
   "source": [
    "for secName in cellRule[\"secs\"]:\n",
    "    cellRule[\"secs\"][secName][\"geom\"][\"cm\"] = 1\n",
    "    if secName.startswith(\"soma\"):\n",
    "        cellRule[\"secs\"][secName][\"mechs\"][\"hh\"] = {\n",
    "            \"gnabar\": 0.12,\n",
    "            \"gkbar\": 0.036,\n",
    "            \"gl\": 0.003,\n",
    "            \"el\": -70,\n",
    "        }\n",
    "    else:\n",
    "        cellRule[\"secs\"][secName][\"mechs\"][\"pas\"] = {\n",
    "            \"g\": 0.0000357,\n",
    "            \"e\": -70,\n",
    "        }"
   ]
  },
  {
   "cell_type": "markdown",
   "id": "65b1719d",
   "metadata": {},
   "source": [
    "Now we'll make a population out of our imported cell."
   ]
  },
  {
   "cell_type": "code",
   "execution_count": 8,
   "id": "5f193e4d",
   "metadata": {},
   "outputs": [],
   "source": [
    "netParams.popParams[\"swc_pop\"] = {\"cellType\": \"swc_cell\", \"numCells\": 1}"
   ]
  },
  {
   "cell_type": "markdown",
   "id": "d3d3e187",
   "metadata": {},
   "source": [
    "Now we'll add a stimulation into the soma to cause an action potential."
   ]
  },
  {
   "cell_type": "code",
   "execution_count": 9,
   "id": "7c65e76c",
   "metadata": {},
   "outputs": [],
   "source": [
    "netParams.synMechParams[\"exc\"] = {\n",
    "    \"mod\": \"Exp2Syn\",\n",
    "    \"tau1\": 0.1,\n",
    "    \"tau2\": 5.0,\n",
    "    \"e\": 0,\n",
    "}\n",
    "\n",
    "netParams.stimSourceParams[\"bkg\"] = {\n",
    "    \"type\": \"NetStim\",\n",
    "    \"rate\": 10,\n",
    "    \"noise\": 0.0,\n",
    "}\n",
    "\n",
    "netParams.stimTargetParams[\"bkg->swc_cell\"] = {\n",
    "    \"source\": \"bkg\",\n",
    "    \"conds\": {\"cellType\": \"swc_cell\"},\n",
    "    \"weight\": 0.1,\n",
    "    \"delay\": 10,\n",
    "    \"synMech\": \"exc\",\n",
    "}"
   ]
  },
  {
   "cell_type": "markdown",
   "id": "cf16af32",
   "metadata": {},
   "source": [
    "Then we'll set up the simulation configuration."
   ]
  },
  {
   "cell_type": "code",
   "execution_count": 10,
   "id": "9cc67e46",
   "metadata": {},
   "outputs": [],
   "source": [
    "cfg = specs.SimConfig()\n",
    "cfg.filename = \"plotshape\"\n",
    "cfg.duration = 30\n",
    "cfg.recordTraces = {\"V_soma\": {\"sec\": \"soma\", \"loc\": 0.5, \"var\": \"v\"}}\n",
    "cfg.recordStep = 0.5\n",
    "cfg.analysis[\"plotTraces\"] = {\"include\": [\"all\"], \"showFig\": True}"
   ]
  },
  {
   "cell_type": "markdown",
   "id": "c61aa7f8",
   "metadata": {},
   "source": [
    "At this point, we could complete everything with `sim.createSimulateAnalyze(netParams=netParams, simConfig=cfg)`, but we want to plot a movie frame at a certain interval, so we need to execute the simulation commands individually."
   ]
  },
  {
   "cell_type": "code",
   "execution_count": 11,
   "id": "629664f1",
   "metadata": {},
   "outputs": [
    {
     "name": "stdout",
     "output_type": "stream",
     "text": [
      "\n",
      "Start time:  2024-10-30 15:37:00.398923\n"
     ]
    },
    {
     "name": "stderr",
     "output_type": "stream",
     "text": [
      "\n",
      "\n",
      "Creating network of 1 cell populations on 1 hosts...: 100%|##########|"
     ]
    },
    {
     "name": "stdout",
     "output_type": "stream",
     "text": [
      "  Number of cells on node 0: 1 \n",
      "  Done; cell creation time = 0.03 s.\n",
      "Making connections...\n",
      "  Number of connections on node 0: 0 \n",
      "  Done; cell connection time = 0.00 s.\n",
      "Adding stims...\n",
      "  Number of stims on node 0: 1 \n",
      "  Done; cell stims creation time = 0.00 s.\n",
      "Recording 1 traces of 1 types on node 0\n"
     ]
    },
    {
     "name": "stderr",
     "output_type": "stream",
     "text": [
      "\n"
     ]
    },
    {
     "data": {
      "text/plain": [
       "{spkt: Vector[0], spkid: Vector[1], V_soma: {cell_0: Vector[2]}, t: Vector[3], _repr_mimebundle_: {}}"
      ]
     },
     "execution_count": 11,
     "metadata": {},
     "output_type": "execute_result"
    }
   ],
   "source": [
    "sim.initialize(simConfig=cfg, netParams=netParams)\n",
    "sim.net.createPops()\n",
    "sim.net.createCells()\n",
    "sim.net.connectCells()\n",
    "sim.net.addStims()\n",
    "sim.setupRecording()"
   ]
  },
  {
   "cell_type": "markdown",
   "id": "32d52364",
   "metadata": {},
   "source": [
    "At this point, we could run the simulation with `sim.runSim()`, but we want to execute the following at intervals:\n",
    "    \n",
    "    sim.analysis.plotShape(\n",
    "        includePre  = [0], \n",
    "        includePost = [0], \n",
    "        cvar        = 'voltage', \n",
    "        clim        = [-70, -20], \n",
    "        saveFig     = 'movie', \n",
    "        showFig     = False,\n",
    "    )\n",
    "    \n",
    "First we have to make a dictionary of the arguments we want to feed into plotShape:"
   ]
  },
  {
   "cell_type": "code",
   "execution_count": 12,
   "id": "160d64c6",
   "metadata": {},
   "outputs": [],
   "source": [
    "plotArgs = {\n",
    "    \"includePre\": [0],\n",
    "    \"includePost\": [0],\n",
    "    \"cvar\": \"voltage\",\n",
    "    \"clim\": [-70, -20],\n",
    "    \"saveFig\": \"movie\",\n",
    "    \"showFig\": False,\n",
    "}"
   ]
  },
  {
   "cell_type": "markdown",
   "id": "3646c7c7",
   "metadata": {},
   "source": [
    "Then we can replace `sim.runSim()` with:"
   ]
  },
  {
   "cell_type": "code",
   "execution_count": 13,
   "id": "604595ac",
   "metadata": {},
   "outputs": [
    {
     "name": "stdout",
     "output_type": "stream",
     "text": [
      "\n",
      "Running with interval func using NEURON for 30.0 ms...\n",
      "Plotting 3D cell shape ...\n",
      "\n",
      "There was an exception in plotShape()\n",
      "Plotting 3D cell shape ...\n",
      "\n",
      "There was an exception in plotShape()\n",
      "Plotting 3D cell shape ...\n",
      "\n",
      "There was an exception in plotShape()\n",
      "Plotting 3D cell shape ...\n",
      "\n",
      "There was an exception in plotShape()\n",
      "Plotting 3D cell shape ...\n",
      "\n",
      "There was an exception in plotShape()\n",
      "Plotting 3D cell shape ...\n",
      "\n",
      "There was an exception in plotShape()\n",
      "Plotting 3D cell shape ...\n",
      "\n",
      "There was an exception in plotShape()\n",
      "Plotting 3D cell shape ...\n",
      "\n",
      "There was an exception in plotShape()\n",
      "Plotting 3D cell shape ...\n",
      "\n",
      "There was an exception in plotShape()\n",
      "Plotting 3D cell shape ...\n",
      "\n",
      "There was an exception in plotShape()\n",
      "  Done; run time = 0.02 s; real-time ratio: 1.23.\n"
     ]
    },
    {
     "name": "stderr",
     "output_type": "stream",
     "text": [
      "Traceback (most recent call last):\n",
      "  File \"/home/hyunsu/miniconda3/envs/netpyne/lib/python3.10/site-packages/netpyne/analysis/utils.py\", line 75, in wrapper\n",
      "    return function(*args, **kwargs)\n",
      "  File \"/home/hyunsu/miniconda3/envs/netpyne/lib/python3.10/site-packages/netpyne/plotting/plotShape.py\", line 168, in plotShape\n",
      "    fig = axis.figure\n",
      "AttributeError: 'float' object has no attribute 'figure'\n",
      "Traceback (most recent call last):\n",
      "  File \"/home/hyunsu/miniconda3/envs/netpyne/lib/python3.10/site-packages/netpyne/analysis/utils.py\", line 75, in wrapper\n",
      "    return function(*args, **kwargs)\n",
      "  File \"/home/hyunsu/miniconda3/envs/netpyne/lib/python3.10/site-packages/netpyne/plotting/plotShape.py\", line 168, in plotShape\n",
      "    fig = axis.figure\n",
      "AttributeError: 'float' object has no attribute 'figure'\n",
      "Traceback (most recent call last):\n",
      "  File \"/home/hyunsu/miniconda3/envs/netpyne/lib/python3.10/site-packages/netpyne/analysis/utils.py\", line 75, in wrapper\n",
      "    return function(*args, **kwargs)\n",
      "  File \"/home/hyunsu/miniconda3/envs/netpyne/lib/python3.10/site-packages/netpyne/plotting/plotShape.py\", line 168, in plotShape\n",
      "    fig = axis.figure\n",
      "AttributeError: 'float' object has no attribute 'figure'\n",
      "Traceback (most recent call last):\n",
      "  File \"/home/hyunsu/miniconda3/envs/netpyne/lib/python3.10/site-packages/netpyne/analysis/utils.py\", line 75, in wrapper\n",
      "    return function(*args, **kwargs)\n",
      "  File \"/home/hyunsu/miniconda3/envs/netpyne/lib/python3.10/site-packages/netpyne/plotting/plotShape.py\", line 168, in plotShape\n",
      "    fig = axis.figure\n",
      "AttributeError: 'float' object has no attribute 'figure'\n",
      "Traceback (most recent call last):\n",
      "  File \"/home/hyunsu/miniconda3/envs/netpyne/lib/python3.10/site-packages/netpyne/analysis/utils.py\", line 75, in wrapper\n",
      "    return function(*args, **kwargs)\n",
      "  File \"/home/hyunsu/miniconda3/envs/netpyne/lib/python3.10/site-packages/netpyne/plotting/plotShape.py\", line 168, in plotShape\n",
      "    fig = axis.figure\n",
      "AttributeError: 'float' object has no attribute 'figure'\n",
      "Traceback (most recent call last):\n",
      "  File \"/home/hyunsu/miniconda3/envs/netpyne/lib/python3.10/site-packages/netpyne/analysis/utils.py\", line 75, in wrapper\n",
      "    return function(*args, **kwargs)\n",
      "  File \"/home/hyunsu/miniconda3/envs/netpyne/lib/python3.10/site-packages/netpyne/plotting/plotShape.py\", line 168, in plotShape\n",
      "    fig = axis.figure\n",
      "AttributeError: 'float' object has no attribute 'figure'\n",
      "Traceback (most recent call last):\n",
      "  File \"/home/hyunsu/miniconda3/envs/netpyne/lib/python3.10/site-packages/netpyne/analysis/utils.py\", line 75, in wrapper\n",
      "    return function(*args, **kwargs)\n",
      "  File \"/home/hyunsu/miniconda3/envs/netpyne/lib/python3.10/site-packages/netpyne/plotting/plotShape.py\", line 168, in plotShape\n",
      "    fig = axis.figure\n",
      "AttributeError: 'float' object has no attribute 'figure'\n",
      "Traceback (most recent call last):\n",
      "  File \"/home/hyunsu/miniconda3/envs/netpyne/lib/python3.10/site-packages/netpyne/analysis/utils.py\", line 75, in wrapper\n",
      "    return function(*args, **kwargs)\n",
      "  File \"/home/hyunsu/miniconda3/envs/netpyne/lib/python3.10/site-packages/netpyne/plotting/plotShape.py\", line 168, in plotShape\n",
      "    fig = axis.figure\n",
      "AttributeError: 'float' object has no attribute 'figure'\n",
      "Traceback (most recent call last):\n",
      "  File \"/home/hyunsu/miniconda3/envs/netpyne/lib/python3.10/site-packages/netpyne/analysis/utils.py\", line 75, in wrapper\n",
      "    return function(*args, **kwargs)\n",
      "  File \"/home/hyunsu/miniconda3/envs/netpyne/lib/python3.10/site-packages/netpyne/plotting/plotShape.py\", line 168, in plotShape\n",
      "    fig = axis.figure\n",
      "AttributeError: 'float' object has no attribute 'figure'\n",
      "Traceback (most recent call last):\n",
      "  File \"/home/hyunsu/miniconda3/envs/netpyne/lib/python3.10/site-packages/netpyne/analysis/utils.py\", line 75, in wrapper\n",
      "    return function(*args, **kwargs)\n",
      "  File \"/home/hyunsu/miniconda3/envs/netpyne/lib/python3.10/site-packages/netpyne/plotting/plotShape.py\", line 168, in plotShape\n",
      "    fig = axis.figure\n",
      "AttributeError: 'float' object has no attribute 'figure'\n"
     ]
    }
   ],
   "source": [
    "sim.runSimWithIntervalFunc(\n",
    "    1.0, sim.analysis.plotShape, timeRange=[10, 20], funcArgs=plotArgs\n",
    ")"
   ]
  },
  {
   "cell_type": "markdown",
   "id": "3658cf09",
   "metadata": {},
   "source": [
    "This will execute `sim.analysis.plotShape` every 1.0 ms from 10 to 20 ms in the simulation and feed it the plotArgs dictionary we created above."
   ]
  },
  {
   "cell_type": "markdown",
   "id": "9c5b9bff",
   "metadata": {},
   "source": [
    "Once we're done simulating, we need to wrap up the final steps manually:"
   ]
  },
  {
   "cell_type": "code",
   "execution_count": 14,
   "id": "32458af0",
   "metadata": {},
   "outputs": [
    {
     "name": "stdout",
     "output_type": "stream",
     "text": [
      "\n",
      "Gathering data...\n",
      "  Done; gather time = 0.01 s.\n",
      "\n",
      "Analyzing...\n",
      "  Cells: 1\n",
      "  Connections: 1 (1.00 per cell)\n",
      "  Spikes: 1 (33.33 Hz)\n",
      "  Simulated time: 0.0 s; 1 workers\n",
      "  Run time: 0.02 s\n",
      "Warning: data won't be saved. No output format specified (consider sim.cfg.savePickle, sim.cfg.saveJson etc.)\n",
      "Plotting recorded cell traces ... cell\n"
     ]
    },
    {
     "data": {
      "image/png": "[encoded data removed]",
      "text/plain": [
       "<Figure size 1000x800 with 1 Axes>"
      ]
     },
     "metadata": {},
     "output_type": "display_data"
    },
    {
     "name": "stdout",
     "output_type": "stream",
     "text": [
      "  Done; plotting time = 0.16 s\n",
      "\n",
      "Total time = 0.26 s\n"
     ]
    }
   ],
   "source": [
    "sim.gatherData()\n",
    "sim.saveData()\n",
    "sim.analysis.plotData()"
   ]
  },
  {
   "cell_type": "markdown",
   "id": "b1b9ee95",
   "metadata": {},
   "source": [
    "Once everything is complete, we'll need to install a couple Python packages to make a movie from our frames."
   ]
  },
  {
   "cell_type": "code",
   "execution_count": 15,
   "id": "123b65dd",
   "metadata": {},
   "outputs": [
    {
     "name": "stdout",
     "output_type": "stream",
     "text": [
      "Collecting natsort\n",
      "  Downloading natsort-8.4.0-py3-none-any.whl.metadata (21 kB)\n",
      "Collecting imageio\n",
      "  Downloading imageio-2.36.0-py3-none-any.whl.metadata (5.2 kB)\n",
      "Requirement already satisfied: numpy in /home/hyunsu/miniconda3/envs/netpyne/lib/python3.10/site-packages (from imageio) (1.26.4)\n",
      "Requirement already satisfied: pillow>=8.3.2 in /home/hyunsu/miniconda3/envs/netpyne/lib/python3.10/site-packages (from imageio) (11.0.0)\n",
      "Downloading natsort-8.4.0-py3-none-any.whl (38 kB)\n",
      "Downloading imageio-2.36.0-py3-none-any.whl (315 kB)\n",
      "Installing collected packages: natsort, imageio\n",
      "Successfully installed imageio-2.36.0 natsort-8.4.0\n"
     ]
    }
   ],
   "source": [
    "!python3 -m pip install natsort imageio"
   ]
  },
  {
   "cell_type": "markdown",
   "id": "26a342f4",
   "metadata": {},
   "source": [
    "Then the following will create an animated gif from the individual figures."
   ]
  },
  {
   "cell_type": "code",
   "execution_count": 16,
   "id": "018b0494",
   "metadata": {},
   "outputs": [
    {
     "ename": "ValueError",
     "evalue": "need at least one array to stack",
     "output_type": "error",
     "traceback": [
      "\u001b[0;31m---------------------------------------------------------------------------\u001b[0m",
      "\u001b[0;31mValueError\u001b[0m                                Traceback (most recent call last)",
      "Cell \u001b[0;32mIn[16], line 11\u001b[0m\n\u001b[1;32m      9\u001b[0m \u001b[38;5;28;01mfor\u001b[39;00m filename \u001b[38;5;129;01min\u001b[39;00m filenames:\n\u001b[1;32m     10\u001b[0m     images\u001b[38;5;241m.\u001b[39mappend(imageio\u001b[38;5;241m.\u001b[39mimread(filename))\n\u001b[0;32m---> 11\u001b[0m \u001b[43mimageio\u001b[49m\u001b[38;5;241;43m.\u001b[39;49m\u001b[43mmimsave\u001b[49m\u001b[43m(\u001b[49m\u001b[38;5;124;43m\"\u001b[39;49m\u001b[38;5;124;43mshape_movie.gif\u001b[39;49m\u001b[38;5;124;43m\"\u001b[39;49m\u001b[43m,\u001b[49m\u001b[43m \u001b[49m\u001b[43mimages\u001b[49m\u001b[43m)\u001b[49m\n",
      "File \u001b[0;32m~/miniconda3/envs/netpyne/lib/python3.10/site-packages/imageio/v2.py:495\u001b[0m, in \u001b[0;36mmimwrite\u001b[0;34m(uri, ims, format, **kwargs)\u001b[0m\n\u001b[1;32m    493\u001b[0m imopen_args[\u001b[38;5;124m\"\u001b[39m\u001b[38;5;124mlegacy_mode\u001b[39m\u001b[38;5;124m\"\u001b[39m] \u001b[38;5;241m=\u001b[39m \u001b[38;5;28;01mTrue\u001b[39;00m\n\u001b[1;32m    494\u001b[0m \u001b[38;5;28;01mwith\u001b[39;00m imopen(uri, \u001b[38;5;124m\"\u001b[39m\u001b[38;5;124mwI\u001b[39m\u001b[38;5;124m\"\u001b[39m, \u001b[38;5;241m*\u001b[39m\u001b[38;5;241m*\u001b[39mimopen_args) \u001b[38;5;28;01mas\u001b[39;00m file:\n\u001b[0;32m--> 495\u001b[0m     \u001b[38;5;28;01mreturn\u001b[39;00m \u001b[43mfile\u001b[49m\u001b[38;5;241;43m.\u001b[39;49m\u001b[43mwrite\u001b[49m\u001b[43m(\u001b[49m\u001b[43mims\u001b[49m\u001b[43m,\u001b[49m\u001b[43m \u001b[49m\u001b[43mis_batch\u001b[49m\u001b[38;5;241;43m=\u001b[39;49m\u001b[38;5;28;43;01mTrue\u001b[39;49;00m\u001b[43m,\u001b[49m\u001b[43m \u001b[49m\u001b[38;5;241;43m*\u001b[39;49m\u001b[38;5;241;43m*\u001b[39;49m\u001b[43mkwargs\u001b[49m\u001b[43m)\u001b[49m\n",
      "File \u001b[0;32m~/miniconda3/envs/netpyne/lib/python3.10/site-packages/imageio/plugins/pillow.py:417\u001b[0m, in \u001b[0;36mPillowPlugin.write\u001b[0;34m(self, ndimage, mode, format, is_batch, **kwargs)\u001b[0m\n\u001b[1;32m    414\u001b[0m     kwargs[\u001b[38;5;124m\"\u001b[39m\u001b[38;5;124mduration\u001b[39m\u001b[38;5;124m\"\u001b[39m] \u001b[38;5;241m=\u001b[39m \u001b[38;5;241m1000\u001b[39m \u001b[38;5;241m*\u001b[39m \u001b[38;5;241m1\u001b[39m \u001b[38;5;241m/\u001b[39m kwargs\u001b[38;5;241m.\u001b[39mget(\u001b[38;5;124m\"\u001b[39m\u001b[38;5;124mfps\u001b[39m\u001b[38;5;124m\"\u001b[39m)\n\u001b[1;32m    416\u001b[0m \u001b[38;5;28;01mif\u001b[39;00m \u001b[38;5;28misinstance\u001b[39m(ndimage, \u001b[38;5;28mlist\u001b[39m):\n\u001b[0;32m--> 417\u001b[0m     ndimage \u001b[38;5;241m=\u001b[39m \u001b[43mnp\u001b[49m\u001b[38;5;241;43m.\u001b[39;49m\u001b[43mstack\u001b[49m\u001b[43m(\u001b[49m\u001b[43mndimage\u001b[49m\u001b[43m,\u001b[49m\u001b[43m \u001b[49m\u001b[43maxis\u001b[49m\u001b[38;5;241;43m=\u001b[39;49m\u001b[38;5;241;43m0\u001b[39;49m\u001b[43m)\u001b[49m\n\u001b[1;32m    418\u001b[0m     is_batch \u001b[38;5;241m=\u001b[39m \u001b[38;5;28;01mTrue\u001b[39;00m\n\u001b[1;32m    419\u001b[0m \u001b[38;5;28;01melse\u001b[39;00m:\n",
      "File \u001b[0;32m~/miniconda3/envs/netpyne/lib/python3.10/site-packages/numpy/_core/shape_base.py:453\u001b[0m, in \u001b[0;36mstack\u001b[0;34m(arrays, axis, out, dtype, casting)\u001b[0m\n\u001b[1;32m    451\u001b[0m arrays \u001b[38;5;241m=\u001b[39m [asanyarray(arr) \u001b[38;5;28;01mfor\u001b[39;00m arr \u001b[38;5;129;01min\u001b[39;00m arrays]\n\u001b[1;32m    452\u001b[0m \u001b[38;5;28;01mif\u001b[39;00m \u001b[38;5;129;01mnot\u001b[39;00m arrays:\n\u001b[0;32m--> 453\u001b[0m     \u001b[38;5;28;01mraise\u001b[39;00m \u001b[38;5;167;01mValueError\u001b[39;00m(\u001b[38;5;124m'\u001b[39m\u001b[38;5;124mneed at least one array to stack\u001b[39m\u001b[38;5;124m'\u001b[39m)\n\u001b[1;32m    455\u001b[0m shapes \u001b[38;5;241m=\u001b[39m {arr\u001b[38;5;241m.\u001b[39mshape \u001b[38;5;28;01mfor\u001b[39;00m arr \u001b[38;5;129;01min\u001b[39;00m arrays}\n\u001b[1;32m    456\u001b[0m \u001b[38;5;28;01mif\u001b[39;00m \u001b[38;5;28mlen\u001b[39m(shapes) \u001b[38;5;241m!=\u001b[39m \u001b[38;5;241m1\u001b[39m:\n",
      "\u001b[0;31mValueError\u001b[0m: need at least one array to stack"
     ]
    }
   ],
   "source": [
    "import os\n",
    "import natsort\n",
    "import imageio\n",
    "\n",
    "images = []\n",
    "filenames = natsort.natsorted(\n",
    "    [file for file in os.listdir() if \"movie\" in file and file.endswith(\".png\")]\n",
    ")\n",
    "for filename in filenames:\n",
    "    images.append(imageio.imread(filename))\n",
    "imageio.mimsave(\"shape_movie.gif\", images)"
   ]
  },
  {
   "cell_type": "markdown",
   "id": "b9297bcd",
   "metadata": {},
   "source": [
    "Your movie should show up below:\n",
    "\n",
    "<img src=\"shape_movie.gif\">"
   ]
  }
 ],
 "metadata": {
  "kernelspec": {
   "display_name": "netpyne",
   "language": "python",
   "name": "python3"
  },
  "language_info": {
   "codemirror_mode": {
    "name": "ipython",
    "version": 3
   },
   "file_extension": ".py",
   "mimetype": "text/x-python",
   "name": "python",
   "nbconvert_exporter": "python",
   "pygments_lexer": "ipython3",
   "version": "3.10.15"
  }
 },
 "nbformat": 4,
 "nbformat_minor": 5
}
