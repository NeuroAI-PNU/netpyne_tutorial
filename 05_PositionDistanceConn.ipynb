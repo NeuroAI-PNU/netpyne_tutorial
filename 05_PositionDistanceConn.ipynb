{
 "cells": [
  {
   "cell_type": "markdown",
   "metadata": {},
   "source": [
    "## Tutorial 5: Position- and distance-based connectivity\n",
    "* http://doc.netpyne.org/tutorial.html#tutorial-5-position-and-distance-based-connectivity\n",
    "\n",
    "* implement weights, probabilities of connection, and delays that depend on cell positions or distances.\n",
    "\n",
    "* We will build a cortical-like network with six populations (three excitatory and three inhibitory) distributed in three layers: 2/3, 4 and 5.\n",
    "\n",
    "* By convention we take the X and Z to be the horizontal or lateral dimensions, and Y to be the vertical dimension (representing cortical depth in this case). To define a cuboid with volume of 100x1000x100 um (i.e. horizontal spread of 100x100 um and cortical depth of 1000um) \n",
    "* note that Z is not vertical depth."
   ]
  },
  {
   "cell_type": "code",
   "execution_count": 9,
   "metadata": {},
   "outputs": [],
   "source": [
    "# load library\n",
    "from netpyne import specs, sim\n",
    "\n",
    "# Network parameters\n",
    "netParams = specs.NetParams()"
   ]
  },
  {
   "cell_type": "code",
   "execution_count": 10,
   "metadata": {},
   "outputs": [],
   "source": [
    "# spatial definition of model box\n",
    "netParams.sizeX = 100  # x-dimension (horizontal length) size in um\n",
    "netParams.sizeY = 1000  # y-dimension (vertical height or cortical depth) size in um\n",
    "netParams.sizeZ = 100  # z-dimension (horizontal length) size in um\n",
    "netParams.propVelocity = 100.0  # propagation velocity (um/ms)\n",
    "netParams.probLengthConst = 150.0  # length constant for conn probability (um)"
   ]
  },
  {
   "cell_type": "code",
   "execution_count": 11,
   "metadata": {},
   "outputs": [],
   "source": [
    "## Cell types\n",
    "secs = {}  # sections dict\n",
    "secs[\"soma\"] = {\"geom\": {}, \"mechs\": {}}  # soma params dict\n",
    "secs[\"soma\"][\"geom\"] = {\"diam\": 15, \"L\": 14, \"Ra\": 120.0}  # soma geometry\n",
    "secs[\"soma\"][\"mechs\"][\"hh\"] = {\n",
    "    \"gnabar\": 0.13,\n",
    "    \"gkbar\": 0.036,\n",
    "    \"gl\": 0.003,\n",
    "    \"el\": -70,\n",
    "}  # soma hh mechanism\n",
    "netParams.cellParams[\"E\"] = {\"secs\": secs}  # add dict to list of cell params\n",
    "\n",
    "secs = {}  # sections dict\n",
    "secs[\"soma\"] = {\"geom\": {}, \"mechs\": {}}  # soma params dict\n",
    "secs[\"soma\"][\"geom\"] = {\"diam\": 10.0, \"L\": 9.0, \"Ra\": 110.0}  # soma geometry\n",
    "secs[\"soma\"][\"mechs\"][\"hh\"] = {\n",
    "    \"gnabar\": 0.11,\n",
    "    \"gkbar\": 0.036,\n",
    "    \"gl\": 0.003,\n",
    "    \"el\": -70,\n",
    "}  # soma hh mechanism\n",
    "netParams.cellParams[\"I\"] = {\"secs\": secs}  # add dict to list of cell params"
   ]
  },
  {
   "cell_type": "code",
   "execution_count": 12,
   "metadata": {},
   "outputs": [],
   "source": [
    "## Population parameters\n",
    "netParams.popParams[\"E2\"] = {\n",
    "    \"cellType\": \"E\",\n",
    "    \"numCells\": 50,\n",
    "    \"yRange\": [100, 300],\n",
    "}  # layer2/3 depth\n",
    "netParams.popParams[\"I2\"] = {\"cellType\": \"I\", \"numCells\": 50, \"yRange\": [100, 300]}\n",
    "netParams.popParams[\"E4\"] = {\n",
    "    \"cellType\": \"E\",\n",
    "    \"numCells\": 50,\n",
    "    \"yRange\": [300, 600],\n",
    "}  # layer4 depth\n",
    "netParams.popParams[\"I4\"] = {\"cellType\": \"I\", \"numCells\": 50, \"yRange\": [300, 600]}\n",
    "netParams.popParams[\"E5\"] = {\n",
    "    \"cellType\": \"E\",\n",
    "    \"numCells\": 50,\n",
    "    \"ynormRange\": [0.6, 1.0],\n",
    "}  # layer5 depth\n",
    "netParams.popParams[\"I5\"] = {\"cellType\": \"I\", \"numCells\": 50, \"ynormRange\": [0.6, 1.0]}"
   ]
  },
  {
   "cell_type": "code",
   "execution_count": 13,
   "metadata": {},
   "outputs": [],
   "source": [
    "## Synaptic mechanism parameters\n",
    "netParams.synMechParams[\"exc\"] = {\n",
    "    \"mod\": \"Exp2Syn\",\n",
    "    \"tau1\": 0.8,\n",
    "    \"tau2\": 5.3,\n",
    "    \"e\": 0,\n",
    "}  # NMDA synaptic mechanism\n",
    "netParams.synMechParams[\"inh\"] = {\n",
    "    \"mod\": \"Exp2Syn\",\n",
    "    \"tau1\": 0.6,\n",
    "    \"tau2\": 8.5,\n",
    "    \"e\": -75,\n",
    "}  # GABA synaptic mechanism"
   ]
  },
  {
   "cell_type": "code",
   "execution_count": 14,
   "metadata": {},
   "outputs": [],
   "source": [
    "# Stimulation parameters\n",
    "netParams.stimSourceParams[\"bkg\"] = {\"type\": \"NetStim\", \"rate\": 20, \"noise\": 0.3}\n",
    "netParams.stimTargetParams[\"bkg->all\"] = {\n",
    "    \"source\": \"bkg\",\n",
    "    \"conds\": {\"cellType\": [\"E\", \"I\"]},\n",
    "    \"weight\": 0.01,\n",
    "    # delay Gaussian distribution with mean 5 ms and standard deviation 2,\n",
    "    # and have a minimum value of 1 ms.\n",
    "    \"delay\": \"max(1, normal(5,2))\",\n",
    "    \"synMech\": \"exc\",\n",
    "}"
   ]
  },
  {
   "cell_type": "code",
   "execution_count": 15,
   "metadata": {},
   "outputs": [
    {
     "name": "stdout",
     "output_type": "stream",
     "text": [
      "\n",
      "Start time:  2024-10-29 11:54:21.356545\n"
     ]
    },
    {
     "name": "stderr",
     "output_type": "stream",
     "text": [
      "\n",
      "\n",
      "Creating network of 6 cell populations on 1 hosts...: 100%|##########|"
     ]
    },
    {
     "name": "stdout",
     "output_type": "stream",
     "text": [
      "  Number of cells on node 0: 300 \n",
      "  Done; cell creation time = 0.03 s.\n",
      "Making connections...\n",
      "  Number of connections on node 0: 0 \n",
      "  Done; cell connection time = 0.00 s.\n",
      "Adding stims...\n",
      "  Number of stims on node 0: 300 \n",
      "  Done; cell stims creation time = 0.03 s.\n",
      "Recording 3 traces of 1 types on node 0\n",
      "\n",
      "Running simulation using NEURON for 1000.0 ms...\n",
      "  Done; run time = 1.13 s; real-time ratio: 0.89.\n",
      "\n",
      "Gathering data...\n"
     ]
    },
    {
     "name": "stderr",
     "output_type": "stream",
     "text": [
      "\n"
     ]
    },
    {
     "name": "stdout",
     "output_type": "stream",
     "text": [
      "  Done; gather time = 0.03 s.\n",
      "\n",
      "Analyzing...\n",
      "  Cells: 300\n",
      "  Connections: 300 (1.00 per cell)\n",
      "  Spikes: 6075 (20.25 Hz)\n",
      "  Simulated time: 1.0 s; 1 workers\n",
      "  Run time: 1.13 s\n",
      "Warning: data won't be saved. No output format specified (consider sim.cfg.savePickle, sim.cfg.saveJson etc.)\n",
      "Preparing spike data...\n",
      "Plotting raster...\n",
      "Plotting recorded cell traces ... cell\n",
      "Plotting 2D representation of network cell locations and connections...\n",
      "Plotting connectivity matrix...\n",
      "  Done; plotting time = 1.08 s\n",
      "\n",
      "Total time = 2.31 s\n"
     ]
    }
   ],
   "source": [
    "# Simulation options\n",
    "simConfig = (\n",
    "    specs.SimConfig()\n",
    ")  # object of class SimConfig to store simulation configuration\n",
    "\n",
    "simConfig.duration = 1 * 1e3  # Duration of the simulation, in ms\n",
    "simConfig.dt = 0.05  # Internal integration timestep to use\n",
    "simConfig.verbose = False  # Show detailed messages\n",
    "simConfig.recordTraces = {\n",
    "    \"V_soma\": {\"sec\": \"soma\", \"loc\": 0.5, \"var\": \"v\"}\n",
    "}  # Dict with traces to record\n",
    "simConfig.recordStep = 1  # Step size in ms to save data (e.g. V traces, LFP, etc)\n",
    "simConfig.filename = \"./results/Tutorial05/tut5\"  # Set file output name\n",
    "simConfig.savePickle = False  # Save params, network and sim output to pickle file\n",
    "\n",
    "simConfig.analysis[\"plotRaster\"] = {\n",
    "    \"orderBy\": \"y\",\n",
    "    \"orderInverse\": True,\n",
    "    \"saveFig\": True,\n",
    "}  # Plot a raster\n",
    "simConfig.analysis[\"plotTraces\"] = {\n",
    "    \"include\": [(\"E2\", 0), (\"E4\", 0), (\"E5\", 5)],\n",
    "    \"saveFig\": True,\n",
    "}  # Plot recorded traces for this list of cells\n",
    "simConfig.analysis[\"plot2Dnet\"] = {\n",
    "    \"saveFig\": True\n",
    "}  # plot 2D cell positions and connections\n",
    "simConfig.analysis[\"plotConn\"] = {\"saveFig\": True}  # plot connectivity matrix\n",
    "\n",
    "# Create network and run simulation\n",
    "sim.createSimulateAnalyze(netParams=netParams, simConfig=simConfig)"
   ]
  },
  {
   "cell_type": "code",
   "execution_count": 16,
   "metadata": {},
   "outputs": [],
   "source": [
    "# redefine the network, using spatial structure\n",
    "netParams.connParams[\"E->all\"] = {\n",
    "    \"preConds\": {\"cellType\": \"E\"},\n",
    "    \"postConds\": {\"y\": [100, 1000]},  #  E -> all (100-1000 um)\n",
    "    \"probability\": 0.1,  # probability of connection\n",
    "    \"weight\": \"0.005*post_ynorm\",  # synaptic weight\n",
    "    \"delay\": \"dist_3D/propVelocity\",  # transmission delay (ms)\n",
    "    \"synMech\": \"exc\",\n",
    "}  # synaptic mechanism"
   ]
  },
  {
   "cell_type": "code",
   "execution_count": 17,
   "metadata": {},
   "outputs": [
    {
     "name": "stdout",
     "output_type": "stream",
     "text": [
      "\n",
      "Start time:  2024-10-29 11:57:45.723962\n"
     ]
    },
    {
     "name": "stderr",
     "output_type": "stream",
     "text": [
      "\n",
      "\n",
      "Creating network of 6 cell populations on 1 hosts...: 100%|##########|\n"
     ]
    },
    {
     "name": "stdout",
     "output_type": "stream",
     "text": [
      "  Number of cells on node 0: 300 \n",
      "  Done; cell creation time = 0.04 s.\n",
      "Making connections...\n"
     ]
    },
    {
     "name": "stderr",
     "output_type": "stream",
     "text": [
      "  E->all: 100%|##########| Creating synaptic connections for 300/300 postsynaptic cells on node 0 (probabilistic connectivity)\n"
     ]
    },
    {
     "name": "stdout",
     "output_type": "stream",
     "text": [
      "  Number of connections on node 0: 4539 \n",
      "  Done; cell connection time = 0.57 s.\n",
      "Adding stims...\n",
      "  Number of stims on node 0: 300 \n",
      "  Done; cell stims creation time = 0.03 s.\n",
      "Recording 3 traces of 1 types on node 0\n",
      "\n",
      "Running simulation using NEURON for 1000.0 ms...\n",
      "  Done; run time = 3.74 s; real-time ratio: 0.27.\n",
      "\n",
      "Gathering data...\n",
      "  Done; gather time = 0.25 s.\n",
      "\n",
      "Analyzing...\n",
      "  Cells: 300\n",
      "  Connections: 4839 (16.13 per cell)\n",
      "  Spikes: 5157 (17.19 Hz)\n",
      "  Simulated time: 1.0 s; 1 workers\n",
      "  Run time: 3.74 s\n",
      "Warning: data won't be saved. No output format specified (consider sim.cfg.savePickle, sim.cfg.saveJson etc.)\n",
      "Preparing spike data...\n",
      "Plotting raster...\n",
      "Plotting recorded cell traces ... cell\n",
      "Plotting 2D representation of network cell locations and connections...\n",
      "Plotting connectivity matrix...\n",
      "  Done; plotting time = 3.84 s\n",
      "\n",
      "Total time = 8.49 s\n"
     ]
    }
   ],
   "source": [
    "simConfig.filename = \"./results/Tutorial05/tut5_spatial\"  # Set file output name\n",
    "sim.createSimulateAnalyze(netParams=netParams, simConfig=simConfig)"
   ]
  },
  {
   "cell_type": "code",
   "execution_count": 18,
   "metadata": {},
   "outputs": [],
   "source": [
    "# use length constant for connection probability\n",
    "netParams.connParams[\"I->E\"] = {  # I -> E\n",
    "    \"preConds\": {\"cellType\": \"I\"},  # presynaptic conditions\n",
    "    \"postConds\": {\"pop\": [\"E2\", \"E4\", \"E5\"]},  # postsynaptic conditions\n",
    "    \"probability\": \"0.4*exp(-dist_3D/probLengthConst)\",  # probability of connection\n",
    "    \"weight\": 0.001,  # synaptic weight\n",
    "    \"delay\": \"dist_3D/propVelocity\",  # transmission delay (ms)\n",
    "    \"synMech\": \"inh\",\n",
    "}  # synaptic mechanism"
   ]
  },
  {
   "cell_type": "code",
   "execution_count": 19,
   "metadata": {},
   "outputs": [
    {
     "name": "stdout",
     "output_type": "stream",
     "text": [
      "\n",
      "Start time:  2024-10-29 12:00:24.483118\n"
     ]
    },
    {
     "name": "stderr",
     "output_type": "stream",
     "text": [
      "\n",
      "\n",
      "Creating network of 6 cell populations on 1 hosts...: 100%|##########|\n"
     ]
    },
    {
     "name": "stdout",
     "output_type": "stream",
     "text": [
      "  Number of cells on node 0: 300 \n",
      "  Done; cell creation time = 0.03 s.\n",
      "Making connections...\n"
     ]
    },
    {
     "name": "stderr",
     "output_type": "stream",
     "text": [
      "  E->all: 100%|##########| Creating synaptic connections for 300/300 postsynaptic cells on node 0 (probabilistic connectivity)\n",
      "  I->E: 100%|##########| Creating synaptic connections for 150/150 postsynaptic cells on node 0 (probabilistic connectivity)\n"
     ]
    },
    {
     "name": "stdout",
     "output_type": "stream",
     "text": [
      "  Number of connections on node 0: 6796 \n",
      "  Done; cell connection time = 0.92 s.\n",
      "Adding stims...\n",
      "  Number of stims on node 0: 300 \n",
      "  Done; cell stims creation time = 0.03 s.\n",
      "Recording 3 traces of 1 types on node 0\n",
      "\n",
      "Running simulation using NEURON for 1000.0 ms...\n",
      "  Done; run time = 5.70 s; real-time ratio: 0.18.\n",
      "\n",
      "Gathering data...\n",
      "  Done; gather time = 0.18 s.\n",
      "\n",
      "Analyzing...\n",
      "  Cells: 300\n",
      "  Connections: 7096 (23.65 per cell)\n",
      "  Spikes: 4778 (15.93 Hz)\n",
      "  Simulated time: 1.0 s; 1 workers\n",
      "  Run time: 5.70 s\n",
      "Warning: data won't be saved. No output format specified (consider sim.cfg.savePickle, sim.cfg.saveJson etc.)\n",
      "Preparing spike data...\n",
      "Plotting raster...\n",
      "Plotting recorded cell traces ... cell\n",
      "Plotting 2D representation of network cell locations and connections...\n",
      "Plotting connectivity matrix...\n",
      "  Done; plotting time = 5.49 s\n",
      "\n",
      "Total time = 12.37 s\n"
     ]
    }
   ],
   "source": [
    "simConfig.filename = \"./results/Tutorial05/tut5_lengCon\"  # Set file output name\n",
    "sim.createSimulateAnalyze(netParams=netParams, simConfig=simConfig)"
   ]
  },
  {
   "cell_type": "code",
   "execution_count": null,
   "metadata": {},
   "outputs": [],
   "source": []
  }
 ],
 "metadata": {
  "kernelspec": {
   "display_name": "netpyne",
   "language": "python",
   "name": "python3"
  },
  "language_info": {
   "codemirror_mode": {
    "name": "ipython",
    "version": 3
   },
   "file_extension": ".py",
   "mimetype": "text/x-python",
   "name": "python",
   "nbconvert_exporter": "python",
   "pygments_lexer": "ipython3",
   "version": "3.10.15"
  }
 },
 "nbformat": 4,
 "nbformat_minor": 2
}
