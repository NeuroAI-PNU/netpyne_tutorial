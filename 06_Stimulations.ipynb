{
 "cells": [
  {
   "cell_type": "markdown",
   "metadata": {},
   "source": [
    "## Tutorial 6: Adding stimulation to the network\n",
    "* http://doc.netpyne.org/tutorial.html#tutorial-6-adding-stimulation-to-the-network\n",
    "\n",
    "* 'stimSourceParams' to define the parameters of the sources of stimulation\n",
    "* 'stimTargetParams' to specify what cells will be applied what source of stimulation (mapping of sources to cells).\n",
    "\n",
    "* Same neural network as in Tutorial 2, but with stimulation added to the network.\n",
    "* and Connectivity parameters are removed.\n"
   ]
  },
  {
   "cell_type": "code",
   "execution_count": 151,
   "metadata": {},
   "outputs": [],
   "source": [
    "# load library\n",
    "from netpyne import specs, sim\n",
    "\n",
    "# Network parameters\n",
    "netParams = (\n",
    "    specs.NetParams()\n",
    ")  # object of class NetParams to store the network parameters"
   ]
  },
  {
   "cell_type": "code",
   "execution_count": 152,
   "metadata": {},
   "outputs": [],
   "source": [
    "# For cell parameters,\n",
    "# \"secs\" is a list of dictionaries, each containing the parameters of a section.\n",
    "# e.g.: gemoetry, mechanisms, etc.\n",
    "PYRcell = {\"secs\": {}}\n",
    "PYRcell[\"secs\"][\"soma\"] = {\"geom\": {}, \"mechs\": {}}\n",
    "PYRcell[\"secs\"][\"soma\"][\"geom\"] = {\n",
    "    \"diam\": 18.8,\n",
    "    \"L\": 18.8,\n",
    "    \"Ra\": 123.0,\n",
    "}  # soma geometry\n",
    "PYRcell[\"secs\"][\"soma\"][\"mechs\"][\"hh\"] = {\n",
    "    \"gnabar\": 0.12,\n",
    "    \"gkbar\": 0.036,\n",
    "    \"gl\": 0.003,\n",
    "    \"el\": -70,\n",
    "}  # soma hh mechanism\n",
    "netParams.cellParams[\"PYR\"] = PYRcell\n",
    "\n",
    "# one line version\n",
    "# netParams.cellParams['PYR'] = {\n",
    "#    'secs': {'soma':\n",
    "#            {'geom': {'diam': 18.8, 'L': 18.8, 'Ra': 123.0},\n",
    "#            'mechs': {'hh': {'gnabar': 0.12, 'gkbar': 0.036, 'gl': 0.003, 'el': -70}}}}})"
   ]
  },
  {
   "cell_type": "code",
   "execution_count": 153,
   "metadata": {},
   "outputs": [],
   "source": [
    "## Population parameters\n",
    "netParams.popParams[\"S\"] = {\"cellType\": \"PYR\", \"numCells\": 20}\n",
    "netParams.popParams[\"M\"] = {\"cellType\": \"PYR\", \"numCells\": 20}"
   ]
  },
  {
   "cell_type": "code",
   "execution_count": 154,
   "metadata": {},
   "outputs": [],
   "source": [
    "## Synaptic mechanism parameters\n",
    "netParams.synMechParams[\"exc\"] = {\n",
    "    \"mod\": \"Exp2Syn\",\n",
    "    \"tau1\": 0.1,  # rise time\n",
    "    \"tau2\": 5.0,  # decay time\n",
    "    \"e\": 0,  # reversal potential\n",
    "}  # excitatory synaptic mechanism"
   ]
  },
  {
   "cell_type": "code",
   "execution_count": 155,
   "metadata": {},
   "outputs": [],
   "source": [
    "netParams.stimSourceParams[\"Input_1\"] = {\n",
    "    \"type\": \"IClamp\",\n",
    "    \"del\": 300,  # ms, start time\n",
    "    \"dur\": 100,  # ms, duration\n",
    "    \"amp\": \"uniform(0.4,0.5)\",  # nA, amplitude\n",
    "}\n",
    "netParams.stimSourceParams[\"Input_2\"] = {\n",
    "    \"type\": \"VClamp\",\n",
    "    \"dur\": [100, 100],  # ms, duration\n",
    "    \"amp\": [-70, 0],  # mV, amplitude\n",
    "    \"gain\": 1e5,\n",
    "    \"rstim\": 1,\n",
    "    \"tau1\": 1.0,\n",
    "    \"tau2\": 0,\n",
    "}\n",
    "netParams.stimSourceParams[\"Input_3\"] = {\n",
    "    \"type\": \"AlphaSynapse\",\n",
    "    \"onset\": \"uniform(300,600)\",  # ms, start time, uniform distribution\n",
    "    \"tau\": 5,\n",
    "    \"gmax\": \"post_ynorm\",  # nS, maximum conductance, target cell normalized depth\n",
    "    \"e\": 0,\n",
    "}\n",
    "netParams.stimSourceParams[\"Input_4\"] = {\n",
    "    \"type\": \"NetStim\",\n",
    "    \"interval\": \"uniform(20,100)\",\n",
    "    \"number\": 1000,\n",
    "    \"start\": 600,\n",
    "    \"noise\": 0.1,\n",
    "}"
   ]
  },
  {
   "cell_type": "code",
   "execution_count": 156,
   "metadata": {},
   "outputs": [],
   "source": [
    "netParams.stimTargetParams[\"Input_1->S\"] = {\n",
    "    \"source\": \"Input_1\",\n",
    "    \"sec\": \"soma\",\n",
    "    \"loc\": 0.8,\n",
    "    \"conds\": {\"pop\": \"S\", \"cellList\": range(15)},\n",
    "}\n",
    "netParams.stimTargetParams[\"Input_2->S\"] = {\n",
    "    \"source\": \"Input_2\",\n",
    "    \"sec\": \"soma\",\n",
    "    \"loc\": 0.5,\n",
    "    \"conds\": {\"pop\": \"S\", \"ynorm\": [0, 0.5]},\n",
    "}\n",
    "\n",
    "netParams.stimTargetParams[\"Input_2->M\"] = {\n",
    "    \"source\": \"Input_2\",\n",
    "    \"sec\": \"soma\",\n",
    "    \"loc\": 0.5,\n",
    "    \"conds\": {\"pop\": \"M\", \"cellList\": [0]},\n",
    "}\n",
    "\n",
    "\n",
    "netParams.stimTargetParams[\"Input_3->M1\"] = {\n",
    "    \"source\": \"Input_3\",\n",
    "    \"sec\": \"soma\",\n",
    "    \"loc\": 0.2,\n",
    "    \"conds\": {\"pop\": \"M\", \"cellList\": [2, 4, 5, 8, 10, 15, 19]},\n",
    "}\n",
    "netParams.stimTargetParams[\"Input_4->PYR\"] = {\n",
    "    \"source\": \"Input_4\",\n",
    "    \"sec\": \"soma\",\n",
    "    \"loc\": 0.5,\n",
    "    \"weight\": \"0.1+normal(0.2,0.05)\",\n",
    "    \"delay\": 1,\n",
    "    \"conds\": {\"cellType\": \"PYR\", \"ynorm\": [0.6, 1.0]},\n",
    "}"
   ]
  },
  {
   "cell_type": "code",
   "execution_count": 157,
   "metadata": {},
   "outputs": [],
   "source": [
    "## Simulation options\n",
    "simConfig = (\n",
    "    specs.SimConfig()\n",
    ")  # object of class SimConfig to store simulation configuration\n",
    "\n",
    "simConfig.duration = 1 * 1e3  # Duration of the simulation, in ms\n",
    "simConfig.dt = 0.025  # Internal integration timestep to use\n",
    "simConfig.verbose = False  # Show detailed messages\n",
    "simConfig.recordTraces = {\n",
    "    \"V_soma\": {\"sec\": \"soma\", \"loc\": 0.5, \"var\": \"v\"},\n",
    "    \"I_Na_soma\": {\"sec\": \"soma\", \"loc\": 0.5, \"var\": \"ina\"},\n",
    "}  # Dict with traces to record\n",
    "simConfig.recordStep = 0.1  # Step size in ms to save data (eg. V traces, LFP, etc)\n",
    "simConfig.filename = \"./results/Tutorial06/tut6\"  # Set file output name\n",
    "simConfig.savePickle = False  # Save params, network and sim output to pickle file\n",
    "\n",
    "simConfig.analysis[\"plotRaster\"] = {\"saveFig\": True}  # Plot a raster\n",
    "simConfig.analysis[\"plotTraces\"] = {\n",
    "    \"include\": [1, 18, 19, 20, 39],\n",
    "    \"saveFig\": True,\n",
    "}  # Plot recorded traces for this list of cells\n",
    "simConfig.analysis[\"plot2Dnet\"] = {\n",
    "    \"saveFig\": True\n",
    "}  # plot 2D visualization of cell positions and connections"
   ]
  },
  {
   "cell_type": "code",
   "execution_count": 158,
   "metadata": {},
   "outputs": [
    {
     "name": "stdout",
     "output_type": "stream",
     "text": [
      "\n",
      "Start time:  2024-10-29 12:33:22.356663\n"
     ]
    },
    {
     "name": "stderr",
     "output_type": "stream",
     "text": [
      "\n",
      "\n",
      "Creating network of 2 cell populations on 1 hosts...: 100%|##########|"
     ]
    },
    {
     "name": "stdout",
     "output_type": "stream",
     "text": [
      "  Number of cells on node 0: 40 \n",
      "  Done; cell creation time = 0.02 s.\n",
      "Making connections...\n",
      "  Number of connections on node 0: 0 \n",
      "  Done; cell connection time = 0.00 s.\n",
      "Adding stims...\n",
      "  Number of stims on node 0: 49 \n",
      "  Done; cell stims creation time = 0.01 s.\n",
      "Recording 10 traces of 2 types on node 0\n",
      "\n",
      "Running simulation using NEURON for 1000.0 ms...\n",
      "  Done; run time = 0.67 s; real-time ratio: 1.48.\n",
      "\n",
      "Gathering data...\n",
      "  Done; gather time = 0.01 s.\n",
      "\n",
      "Analyzing...\n",
      "  Cells: 40\n",
      "  Connections: 16 (0.40 per cell)\n",
      "  Spikes: 125 (3.12 Hz)\n",
      "  Simulated time: 1.0 s; 1 workers\n",
      "  Run time: 0.67 s\n",
      "Warning: data won't be saved. No output format specified (consider sim.cfg.savePickle, sim.cfg.saveJson etc.)\n",
      "Preparing spike data...\n",
      "Plotting raster...\n"
     ]
    },
    {
     "name": "stderr",
     "output_type": "stream",
     "text": [
      "\n",
      "exp(955.401) out of range, returning exp(700)\n",
      "exp(955.901) out of range, returning exp(700)\n",
      "exp(953.901) out of range, returning exp(700)\n",
      "exp(1392.5) out of range, returning exp(700)\n",
      "No more errno warnings during this execution\n"
     ]
    },
    {
     "name": "stdout",
     "output_type": "stream",
     "text": [
      "Plotting recorded cell traces ... cell\n",
      "Plotting 2D representation of network cell locations and connections...\n",
      "  Done; plotting time = 1.08 s\n",
      "\n",
      "Total time = 1.79 s\n"
     ]
    }
   ],
   "source": [
    "## Create network and run simulation\n",
    "sim.createSimulateAnalyze(netParams, simConfig)"
   ]
  },
  {
   "cell_type": "code",
   "execution_count": null,
   "metadata": {},
   "outputs": [],
   "source": []
  },
  {
   "cell_type": "code",
   "execution_count": null,
   "metadata": {},
   "outputs": [],
   "source": []
  },
  {
   "cell_type": "code",
   "execution_count": null,
   "metadata": {},
   "outputs": [],
   "source": []
  }
 ],
 "metadata": {
  "kernelspec": {
   "display_name": "netpyne",
   "language": "python",
   "name": "python3"
  },
  "language_info": {
   "codemirror_mode": {
    "name": "ipython",
    "version": 3
   },
   "file_extension": ".py",
   "mimetype": "text/x-python",
   "name": "python",
   "nbconvert_exporter": "python",
   "pygments_lexer": "ipython3",
   "version": "3.10.15"
  }
 },
 "nbformat": 4,
 "nbformat_minor": 2
}
