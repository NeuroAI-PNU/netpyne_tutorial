{
 "cells": [
  {
   "cell_type": "markdown",
   "metadata": {},
   "source": [
    "## Tutorial 1: Quick and easy example\n",
    "* http://doc.netpyne.org/tutorial.html#tutorial-1-quick-and-easy-example\n",
    "\n",
    "* This will create a simple network (200 randomly connected cells), run a one-second simulation, and plot the network spiking raster plot and the voltage trace of a cell."
   ]
  },
  {
   "cell_type": "code",
   "execution_count": 38,
   "metadata": {},
   "outputs": [],
   "source": [
    "# original tutorial use HHTut.py, but here we use it as a naive code here.\n",
    "from netpyne import specs, sim\n",
    "\n",
    "netParams = specs.NetParams()   # object of class NetParams to store the network parameters\n",
    "simConfig = specs.SimConfig()   # object of class SimConfig to store the simulation configuration"
   ]
  },
  {
   "cell_type": "code",
   "execution_count": 39,
   "metadata": {},
   "outputs": [],
   "source": [
    "\n",
    "###############################################################################\n",
    "#\n",
    "# HH TUTORIAL\n",
    "#\n",
    "###############################################################################\n",
    "\n",
    "###############################################################################\n",
    "# NETWORK PARAMETERS\n",
    "###############################################################################\n",
    "\n",
    "# Population parameters\n",
    "netParams.popParams['PYR'] = {'cellType': 'PYR', 'numCells': 200} # add dict with params for this pop\n"
   ]
  },
  {
   "cell_type": "code",
   "execution_count": 40,
   "metadata": {},
   "outputs": [],
   "source": [
    "# Cell parameters\n",
    "## PYR cell properties\n",
    "PYRcell = {'secs': {}} # cell rule dict\n",
    "PYRcell['secs']['soma'] = {'geom': {}, 'mechs': {}} # soma params dict\n",
    "PYRcell['secs']['soma']['geom'] = {'diam': 18.8, 'L': 18.8, 'Ra': 123.0} # soma geometry\n",
    "PYRcell['secs']['soma']['mechs']['hh'] = {'gnabar': 0.12, 'gkbar': 0.036, 'gl': 0.003, 'el': -70} # soma HH model mechanism\n",
    "PYRcell['secs']['soma']['vinit'] = -71 # set initial membrane potential\n",
    "netParams.cellParams['PYR'] = PYRcell # add dict to list of cell params"
   ]
  },
  {
   "cell_type": "code",
   "execution_count": 41,
   "metadata": {},
   "outputs": [],
   "source": [
    "# Synaptic mechanism parameters\n",
    "netParams.synMechParams['AMPA'] = {'mod': 'Exp2Syn', 'tau1': 0.1, 'tau2': 1.0, 'e': 0}"
   ]
  },
  {
   "cell_type": "code",
   "execution_count": 42,
   "metadata": {},
   "outputs": [],
   "source": [
    "# Stimulation parameters\n",
    "netParams.stimSourceParams['bkg'] = {'type': 'NetStim', 'rate': 10, 'noise': 0.5, 'start': 1}\n",
    "netParams.stimTargetParams['bkg->PYR'] = {'source': 'bkg', 'conds': {'pop': 'PYR'}, 'weight': 0.1, 'delay': 'uniform(1,5)'}"
   ]
  },
  {
   "cell_type": "code",
   "execution_count": 43,
   "metadata": {},
   "outputs": [],
   "source": [
    "# Connectivity parameters\n",
    "netParams.connParams['PYR->PYR'] = {\n",
    "    'preConds': {'pop': 'PYR'}, 'postConds': {'pop': 'PYR'},\n",
    "    'weight': 0.002,                    # weight of each connection\n",
    "    'delay': '0.2+normal(13.0,1.4)',     # delay min=0.2, mean=13.0, var = 1.4\n",
    "    'threshold': 10,                    # threshold\n",
    "    'convergence': 'uniform(1,15)'}    # convergence (num presyn targeting postsyn) is uniformly distributed between 1 and 15"
   ]
  },
  {
   "cell_type": "code",
   "execution_count": 44,
   "metadata": {},
   "outputs": [],
   "source": [
    "###############################################################################\n",
    "# SIMULATION PARAMETERS\n",
    "###############################################################################\n",
    "\n",
    "# Simulation parameters\n",
    "simConfig.duration = 1*1e3 # Duration of the simulation, in ms\n",
    "simConfig.dt = 0.025 # Internal integration timestep to use\n",
    "simConfig.seeds = {'conn': 1, 'stim': 1, 'loc': 1} # Seeds for randomizers (connectivity, input stimulation and cell locations)\n",
    "simConfig.verbose = False  # show detailed messages\n",
    "simConfig.hParams = {'v_init': PYRcell['secs']['soma']['vinit']}\n"
   ]
  },
  {
   "cell_type": "code",
   "execution_count": 45,
   "metadata": {},
   "outputs": [],
   "source": [
    "# Recording\n",
    "simConfig.recordCells = []  # which cells to record from\n",
    "simConfig.recordTraces = {'Vsoma': {'sec': 'soma','loc': 0.5,'var': 'v'}}\n",
    "simConfig.recordStim = True  # record spikes of cell stims\n",
    "simConfig.recordStep = 0.1 # Step size in ms to save data (eg. V traces, LFP, etc)\n"
   ]
  },
  {
   "cell_type": "code",
   "execution_count": 46,
   "metadata": {},
   "outputs": [],
   "source": [
    "# Saving\n",
    "simConfig.filename = './results/Tutorial01/HHtut'  # Set file output name\n",
    "simConfig.savePickle = False # Whether or not to write spikes etc. to a .mat file\n",
    "simConfig.saveJson = True"
   ]
  },
  {
   "cell_type": "code",
   "execution_count": 47,
   "metadata": {},
   "outputs": [],
   "source": [
    "# Analysis and plotting\n",
    "simConfig.analysis['plotRaster'] = {'saveData': 'raster_data.json', 'saveFig': True, 'showFig': True} # Plot raster\n",
    "simConfig.analysis['plotTraces'] = {'include': [2], 'saveFig': True, 'showFig': True} # Plot cell traces\n",
    "simConfig.analysis['plot2Dnet'] = {'saveFig': True, 'showFig': True} # Plot 2D cells and connections"
   ]
  },
  {
   "cell_type": "code",
   "execution_count": 48,
   "metadata": {},
   "outputs": [],
   "source": [
    "simConfig.validateNetParams=True"
   ]
  },
  {
   "cell_type": "code",
   "execution_count": 49,
   "metadata": {},
   "outputs": [
    {
     "name": "stdout",
     "output_type": "stream",
     "text": [
      "\n",
      "Start time:  2024-10-28 11:19:18.732689\n",
      "Validating NetParams ...\n",
      "  Successfully validated generalParams\n",
      "  Successfully validated cellParams\n",
      "  Successfully validated popParams\n",
      "  Successfully validated synMechParams\n",
      "  Successfully validated connParams\n",
      "  Successfully validated subConnParams\n",
      "  Successfully validated stimSourceParams\n",
      "  Successfully validated stimTargetParams\n",
      "\n",
      "NetParams validation successful.\n"
     ]
    },
    {
     "name": "stderr",
     "output_type": "stream",
     "text": [
      "\n",
      "\n",
      "Creating network of 1 cell populations on 1 hosts...: 100%|##########|\n"
     ]
    },
    {
     "name": "stdout",
     "output_type": "stream",
     "text": [
      "  Number of cells on node 0: 200 \n",
      "  Done; cell creation time = 0.03 s.\n",
      "Making connections...\n"
     ]
    },
    {
     "name": "stderr",
     "output_type": "stream",
     "text": [
      "  PYR->PYR: 100%|##########| Creating synaptic connections for 200/200 postsynaptic cells on node 0 (convergent connectivity)"
     ]
    },
    {
     "name": "stdout",
     "output_type": "stream",
     "text": [
      "  Number of connections on node 0: 1623 \n",
      "  Done; cell connection time = 0.16 s.\n",
      "Adding stims...\n",
      "  Number of stims on node 0: 200 \n",
      "  Done; cell stims creation time = 0.02 s.\n",
      "Recording 1 traces of 1 types on node 0\n",
      "\n",
      "Running simulation using NEURON for 1000.0 ms...\n",
      "  Done; run time = 14.19 s; real-time ratio: 0.07.\n",
      "\n",
      "Gathering data...\n"
     ]
    },
    {
     "name": "stderr",
     "output_type": "stream",
     "text": [
      "\n"
     ]
    },
    {
     "name": "stdout",
     "output_type": "stream",
     "text": [
      "  Done; gather time = 0.06 s.\n",
      "\n",
      "Analyzing...\n",
      "  Cells: 200\n",
      "  Connections: 1823 (9.12 per cell)\n",
      "  Spikes: 2053 (10.27 Hz)\n",
      "  Simulated time: 1.0 s; 1 workers\n",
      "  Run time: 14.19 s\n",
      "Saving output as ./results/Tutorial01/HHtut_data.json ... \n",
      "Finished saving!\n",
      "  Done; saving time = 0.10 s.\n",
      "Preparing spike data...\n",
      "Saving data as ./results/Tutorial01/HHtut_spike_data.pkl ... \n",
      "Plotting raster...\n",
      "Saving data as ./results/Tutorial01/HHtut_data.pkl ... \n",
      "Plotting recorded cell traces ... cell\n",
      "Plotting 2D representation of network cell locations and connections...\n",
      "  Done; plotting time = 1.53 s\n",
      "\n",
      "Total time = 16.11 s\n"
     ]
    }
   ],
   "source": [
    "sim.createSimulateAnalyze(netParams = netParams, simConfig = simConfig)"
   ]
  },
  {
   "cell_type": "code",
   "execution_count": null,
   "metadata": {},
   "outputs": [],
   "source": []
  },
  {
   "cell_type": "code",
   "execution_count": null,
   "metadata": {},
   "outputs": [],
   "source": []
  },
  {
   "cell_type": "code",
   "execution_count": null,
   "metadata": {},
   "outputs": [],
   "source": []
  }
 ],
 "metadata": {
  "kernelspec": {
   "display_name": "netpyne",
   "language": "python",
   "name": "python3"
  },
  "language_info": {
   "codemirror_mode": {
    "name": "ipython",
    "version": 3
   },
   "file_extension": ".py",
   "mimetype": "text/x-python",
   "name": "python",
   "nbconvert_exporter": "python",
   "pygments_lexer": "ipython3",
   "version": "3.10.15"
  }
 },
 "nbformat": 4,
 "nbformat_minor": 2
}
